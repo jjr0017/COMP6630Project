{
  "nbformat": 4,
  "nbformat_minor": 0,
  "metadata": {
    "colab": {
      "provenance": [],
      "authorship_tag": "ABX9TyNGJpnThYcIPVzh3CBiQAvR",
      "include_colab_link": true
    },
    "kernelspec": {
      "name": "python3",
      "display_name": "Python 3"
    },
    "language_info": {
      "name": "python"
    }
  },
  "cells": [
    {
      "cell_type": "markdown",
      "metadata": {
        "id": "view-in-github",
        "colab_type": "text"
      },
      "source": [
        "<a href=\"https://colab.research.google.com/github/jjr0017/COMP6630Project/blob/master/Assignment1.ipynb\" target=\"_parent\"><img src=\"https://colab.research.google.com/assets/colab-badge.svg\" alt=\"Open In Colab\"/></a>"
      ]
    },
    {
      "cell_type": "code",
      "execution_count": null,
      "metadata": {
        "id": "OjjGlafpe3dx"
      },
      "outputs": [],
      "source": [
        "\n",
        "def readFiles(read_directory):\n",
        "  test_cases = []\n",
        "\n",
        "  test_case_1 = {}\n",
        "\n",
        "  test_case_1['nodes'] = get_nodes('TestCase_01_NodeID.csv')\n",
        "  test_case_1['edges'] = get_edges('TestCase_01_EdgeList.txt')\n",
        "\n",
        "  test_cases.append(test_case_1)\n",
        "\n",
        "\n",
        "\n",
        "\n",
        "def main():\n",
        "  test_cases = readFiles('./')\n",
        "\n",
        "if __name__ == '__main__':\n",
        "  main()"
      ]
    }
  ]
}