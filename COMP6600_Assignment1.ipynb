{
  "nbformat": 4,
  "nbformat_minor": 0,
  "metadata": {
    "colab": {
      "provenance": [],
      "authorship_tag": "ABX9TyO3Q4k/B4bXmp9zFCqk0fWX",
      "include_colab_link": true
    },
    "kernelspec": {
      "name": "python3",
      "display_name": "Python 3"
    },
    "language_info": {
      "name": "python"
    }
  },
  "cells": [
    {
      "cell_type": "markdown",
      "metadata": {
        "id": "view-in-github",
        "colab_type": "text"
      },
      "source": [
        "<a href=\"https://colab.research.google.com/github/jjr0017/COMP6630Project/blob/master/COMP6600_Assignment1.ipynb\" target=\"_parent\"><img src=\"https://colab.research.google.com/assets/colab-badge.svg\" alt=\"Open In Colab\"/></a>"
      ]
    },
    {
      "cell_type": "code",
      "execution_count": null,
      "metadata": {
        "id": "OjjGlafpe3dx"
      },
      "outputs": [],
      "source": [
        "\n",
        "def readFiles(read_directory):\n",
        "  test_cases = []\n",
        "\n",
        "  test_case_1 = {}\n",
        "\n",
        "\n",
        "def main():\n",
        "  test_cases = readFiles('./')\n",
        "\n",
        "if __name__ == '__main__':\n",
        "  main()"
      ]
    }
  ]
}